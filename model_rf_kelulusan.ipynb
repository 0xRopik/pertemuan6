# 📙 Pertemuan 6 — Random Forest untuk Klasifikasi Kelulusan Mahasiswa

# Langkah 1 — Muat Data
import pandas as pd
from sklearn.model_selection import train_test_split

df = pd.read_csv("processed_kelulusan.csv")
X = df.drop("Lulus", axis=1)
y = df["Lulus"]

X_train, X_temp, y_train, y_temp = train_test_split(X, y, test_size=0.3, stratify=y, random_state=42)
X_val, X_test, y_val, y_test = train_test_split(X_temp, y_temp, test_size=0.5, stratify=y_temp, random_state=42)
print(X_train.shape, X_val.shape, X_test.shape)

# Langkah 2 — Pipeline & Baseline RF
from sklearn.pipeline import Pipeline
from sklearn.compose import ColumnTransformer
from sklearn.preprocessing import StandardScaler
from sklearn.impute import SimpleImputer
from sklearn.ensemble import RandomForestClassifier
from sklearn.metrics import f1_score, classification_report

num_cols = X_train.select_dtypes(include="number").columns

pre = ColumnTransformer([
    ("num", Pipeline([("imp", SimpleImputer(strategy="median")), ("sc", StandardScaler())]), num_cols)
], remainder="drop")

rf = RandomForestClassifier(n_estimators=300, max_features="sqrt", class_weight="balanced", random_state=42)
pipe = Pipeline([("pre", pre), ("clf", rf)])
pipe.fit(X_train, y_train)

y_val_pred = pipe.predict(X_val)
print("Baseline RF — F1(val):", f1_score(y_val, y_val_pred, average="macro"))
print(classification_report(y_val, y_val_pred, digits=3))

# Langkah 3 — Validasi Silang & Tuning
from sklearn.model_selection import StratifiedKFold, GridSearchCV

skf = StratifiedKFold(n_splits=5, shuffle=True, random_state=42)
param = {"clf__max_depth": [None, 12, 20, 30], "clf__min_samples_split": [2, 5, 10]}

gs = GridSearchCV(pipe, param_grid=param, cv=skf, scoring="f1_macro", n_jobs=-1, verbose=1)
gs.fit(X_train, y_train)
print("Best params:", gs.best_params_)

best_model = gs.best_estimator_
y_val_best = best_model.predict(X_val)
print("Best RF — F1(val):", f1_score(y_val, y_val_best, average="macro"))

# Langkah 4 — Evaluasi Test
from sklearn.metrics import confusion_matrix, roc_auc_score, roc_curve, precision_recall_curve
import matplotlib.pyplot as plt

final_model = best_model
y_test_pred = final_model.predict(X_test)
print("F1(test):", f1_score(y_test, y_test_pred, average="macro"))
print(classification_report(y_test, y_test_pred, digits=3))
print(confusion_matrix(y_test, y_test_pred))

# ROC-AUC & PR Curve
y_test_proba = final_model.predict_proba(X_test)[:,1]
print("ROC-AUC(test):", roc_auc_score(y_test, y_test_proba))

fpr, tpr, _ = roc_curve(y_test, y_test_proba)
plt.plot(fpr, tpr); plt.xlabel("FPR"); plt.ylabel("TPR"); plt.title("ROC (test)")
plt.savefig("roc_test.png", dpi=120)

prec, rec, _ = precision_recall_curve(y_test, y_test_proba)
plt.plot(rec, prec); plt.xlabel("Recall"); plt.ylabel("Precision"); plt.title("PR Curve (test)")
plt.savefig("pr_test.png", dpi=120)

# Langkah 5 — Feature Importance
import numpy as np
importances = final_model.named_steps["clf"].feature_importances_
fn = final_model.named_steps["pre"].get_feature_names_out()
top = sorted(zip(fn, importances), key=lambda x: x[1], reverse=True)
print("Top 3 fitur penting:")
for n, v in top[:3]:
    print(f"{n}: {v:.4f}")

# Langkah 6 — Simpan Model
import joblib
joblib.dump(final_model, "rf_model.pkl")
print("Model disimpan sebagai rf_model.pkl")

# Langkah 7 — Uji Prediksi Contoh
sample = pd.DataFrame([{
  "IPK": 3.5,
  "Jumlah_Absensi": 4,
  "Waktu_Belajar_Jam": 6,
  "Rasio_Absensi": 0.3,
  "IPK_x_Study": 21
}])
mdl = joblib.load("rf_model.pkl")
print("Prediksi sampel:", int(mdl.predict(sample)[0]))
